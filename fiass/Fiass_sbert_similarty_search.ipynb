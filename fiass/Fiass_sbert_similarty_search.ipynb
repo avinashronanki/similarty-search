{
  "nbformat": 4,
  "nbformat_minor": 0,
  "metadata": {
    "colab": {
      "name": "Fiass-sbert-similarty-search.ipynb",
      "provenance": []
    },
    "kernelspec": {
      "name": "python3",
      "display_name": "Python 3"
    },
    "language_info": {
      "name": "python"
    }
  },
  "cells": [
    {
      "cell_type": "code",
      "metadata": {
        "id": "O-3z4fanmT0f"
      },
      "source": [
        "#https://gist.github.com/jamescalam/7117aa92235a7f52141ad0654795aa48"
      ],
      "execution_count": null,
      "outputs": []
    },
    {
      "cell_type": "code",
      "metadata": {
        "id": "tP2PbghMEVEk"
      },
      "source": [
        "!pip install sentence_transformers"
      ],
      "execution_count": null,
      "outputs": []
    },
    {
      "cell_type": "code",
      "metadata": {
        "id": "tUMFV_hHBSpp"
      },
      "source": [
        "!pip install faiss-gpu"
      ],
      "execution_count": null,
      "outputs": []
    },
    {
      "cell_type": "code",
      "metadata": {
        "id": "Oq7j69WQBEui"
      },
      "source": [
        "\n",
        "import numpy as np\n",
        "import faiss\n",
        "import requests\n",
        "from io import StringIO\n",
        "import pandas as pd"
      ],
      "execution_count": 7,
      "outputs": []
    },
    {
      "cell_type": "code",
      "metadata": {
        "colab": {
          "base_uri": "https://localhost:8080/",
          "height": 35
        },
        "id": "2Oin7vWtCX6f",
        "outputId": "8b18f606-06f1-421d-f23a-99b729b0700c"
      },
      "source": [
        "res = requests.get('https://raw.githubusercontent.com/brmson/dataset-sts/master/data/sts/sick2014/SICK_train.txt')\n",
        "\n",
        "text = res.text\n",
        "text[:100]\n"
      ],
      "execution_count": 8,
      "outputs": [
        {
          "output_type": "execute_result",
          "data": {
            "application/vnd.google.colaboratory.intrinsic+json": {
              "type": "string"
            },
            "text/plain": [
              "'pair_ID\\tsentence_A\\tsentence_B\\trelatedness_score\\tentailment_judgment\\n1\\tA group of kids is playing in '"
            ]
          },
          "metadata": {},
          "execution_count": 8
        }
      ]
    },
    {
      "cell_type": "code",
      "metadata": {
        "colab": {
          "base_uri": "https://localhost:8080/",
          "height": 289
        },
        "id": "DBlNRbvYCeu_",
        "outputId": "78d26a7c-be49-47df-acfa-f87f2d5e8a01"
      },
      "source": [
        "data = pd.read_csv(StringIO(text), sep='\\t')\n",
        "data.head()"
      ],
      "execution_count": 9,
      "outputs": [
        {
          "output_type": "execute_result",
          "data": {
            "text/html": [
              "<div>\n",
              "<style scoped>\n",
              "    .dataframe tbody tr th:only-of-type {\n",
              "        vertical-align: middle;\n",
              "    }\n",
              "\n",
              "    .dataframe tbody tr th {\n",
              "        vertical-align: top;\n",
              "    }\n",
              "\n",
              "    .dataframe thead th {\n",
              "        text-align: right;\n",
              "    }\n",
              "</style>\n",
              "<table border=\"1\" class=\"dataframe\">\n",
              "  <thead>\n",
              "    <tr style=\"text-align: right;\">\n",
              "      <th></th>\n",
              "      <th>pair_ID</th>\n",
              "      <th>sentence_A</th>\n",
              "      <th>sentence_B</th>\n",
              "      <th>relatedness_score</th>\n",
              "      <th>entailment_judgment</th>\n",
              "    </tr>\n",
              "  </thead>\n",
              "  <tbody>\n",
              "    <tr>\n",
              "      <th>0</th>\n",
              "      <td>1</td>\n",
              "      <td>A group of kids is playing in a yard and an ol...</td>\n",
              "      <td>A group of boys in a yard is playing and a man...</td>\n",
              "      <td>4.5</td>\n",
              "      <td>NEUTRAL</td>\n",
              "    </tr>\n",
              "    <tr>\n",
              "      <th>1</th>\n",
              "      <td>2</td>\n",
              "      <td>A group of children is playing in the house an...</td>\n",
              "      <td>A group of kids is playing in a yard and an ol...</td>\n",
              "      <td>3.2</td>\n",
              "      <td>NEUTRAL</td>\n",
              "    </tr>\n",
              "    <tr>\n",
              "      <th>2</th>\n",
              "      <td>3</td>\n",
              "      <td>The young boys are playing outdoors and the ma...</td>\n",
              "      <td>The kids are playing outdoors near a man with ...</td>\n",
              "      <td>4.7</td>\n",
              "      <td>ENTAILMENT</td>\n",
              "    </tr>\n",
              "    <tr>\n",
              "      <th>3</th>\n",
              "      <td>5</td>\n",
              "      <td>The kids are playing outdoors near a man with ...</td>\n",
              "      <td>A group of kids is playing in a yard and an ol...</td>\n",
              "      <td>3.4</td>\n",
              "      <td>NEUTRAL</td>\n",
              "    </tr>\n",
              "    <tr>\n",
              "      <th>4</th>\n",
              "      <td>9</td>\n",
              "      <td>The young boys are playing outdoors and the ma...</td>\n",
              "      <td>A group of kids is playing in a yard and an ol...</td>\n",
              "      <td>3.7</td>\n",
              "      <td>NEUTRAL</td>\n",
              "    </tr>\n",
              "  </tbody>\n",
              "</table>\n",
              "</div>"
            ],
            "text/plain": [
              "   pair_ID  ... entailment_judgment\n",
              "0        1  ...             NEUTRAL\n",
              "1        2  ...             NEUTRAL\n",
              "2        3  ...          ENTAILMENT\n",
              "3        5  ...             NEUTRAL\n",
              "4        9  ...             NEUTRAL\n",
              "\n",
              "[5 rows x 5 columns]"
            ]
          },
          "metadata": {},
          "execution_count": 9
        }
      ]
    },
    {
      "cell_type": "code",
      "metadata": {
        "colab": {
          "base_uri": "https://localhost:8080/"
        },
        "id": "TfYW4U8wDUi7",
        "outputId": "0fcad1b9-57c7-42b0-be34-7451e8c4d979"
      },
      "source": [
        "sentences = data['sentence_A'].tolist()\n",
        "sentences[:5]"
      ],
      "execution_count": 10,
      "outputs": [
        {
          "output_type": "execute_result",
          "data": {
            "text/plain": [
              "['A group of kids is playing in a yard and an old man is standing in the background',\n",
              " 'A group of children is playing in the house and there is no man standing in the background',\n",
              " 'The young boys are playing outdoors and the man is smiling nearby',\n",
              " 'The kids are playing outdoors near a man with a smile',\n",
              " 'The young boys are playing outdoors and the man is smiling nearby']"
            ]
          },
          "metadata": {},
          "execution_count": 10
        }
      ]
    },
    {
      "cell_type": "code",
      "metadata": {
        "colab": {
          "base_uri": "https://localhost:8080/"
        },
        "id": "tbXoEu66DWF0",
        "outputId": "09fcf83b-9a75-45ae-f2a0-b0d64118ea16"
      },
      "source": [
        "\n",
        "sentence_b = data['sentence_B'].tolist()\n",
        "sentences.extend(sentence_b)\n",
        "len(set(sentences))"
      ],
      "execution_count": 11,
      "outputs": [
        {
          "output_type": "execute_result",
          "data": {
            "text/plain": [
              "4802"
            ]
          },
          "metadata": {},
          "execution_count": 11
        }
      ]
    },
    {
      "cell_type": "code",
      "metadata": {
        "id": "FR8hD_bNDv5p"
      },
      "source": [
        "urls = [\n",
        "    'https://raw.githubusercontent.com/brmson/dataset-sts/master/data/sts/semeval-sts/2012/MSRpar.train.tsv',\n",
        "    'https://raw.githubusercontent.com/brmson/dataset-sts/master/data/sts/semeval-sts/2012/MSRpar.test.tsv',\n",
        "    'https://raw.githubusercontent.com/brmson/dataset-sts/master/data/sts/semeval-sts/2012/OnWN.test.tsv',\n",
        "    'https://raw.githubusercontent.com/brmson/dataset-sts/master/data/sts/semeval-sts/2013/OnWN.test.tsv',\n",
        "    'https://raw.githubusercontent.com/brmson/dataset-sts/master/data/sts/semeval-sts/2014/OnWN.test.tsv',\n",
        "    'https://raw.githubusercontent.com/brmson/dataset-sts/master/data/sts/semeval-sts/2014/images.test.tsv',\n",
        "    'https://raw.githubusercontent.com/brmson/dataset-sts/master/data/sts/semeval-sts/2015/images.test.tsv'\n",
        "]"
      ],
      "execution_count": 12,
      "outputs": []
    },
    {
      "cell_type": "code",
      "metadata": {
        "colab": {
          "base_uri": "https://localhost:8080/"
        },
        "id": "os1vzFTzD8T-",
        "outputId": "bb11fda3-e101-49a8-9361-23092ca5cd1f"
      },
      "source": [
        "\n",
        "for url in urls:\n",
        "    res = requests.get(url)\n",
        "    # extract to dataframe\n",
        "    data = pd.read_csv(StringIO(res.text), sep='\\t', header=None, error_bad_lines=False)\n",
        "    # add to columns 1 and 2 to sentences list\n",
        "    sentences.extend(data[1].tolist())\n",
        "    sentences.extend(data[2].tolist())\n"
      ],
      "execution_count": 13,
      "outputs": [
        {
          "output_type": "stream",
          "name": "stderr",
          "text": [
            "b'Skipping line 191: expected 3 fields, saw 4\\nSkipping line 206: expected 3 fields, saw 4\\nSkipping line 295: expected 3 fields, saw 4\\nSkipping line 695: expected 3 fields, saw 4\\nSkipping line 699: expected 3 fields, saw 4\\n'\n",
            "b'Skipping line 104: expected 3 fields, saw 4\\nSkipping line 181: expected 3 fields, saw 4\\nSkipping line 317: expected 3 fields, saw 4\\nSkipping line 412: expected 3 fields, saw 5\\nSkipping line 508: expected 3 fields, saw 4\\n'\n"
          ]
        }
      ]
    },
    {
      "cell_type": "code",
      "metadata": {
        "colab": {
          "base_uri": "https://localhost:8080/"
        },
        "id": "mIS0vQJYD_WD",
        "outputId": "13d5cdbb-78bf-4cf9-d0a0-46b9b07e4a9f"
      },
      "source": [
        "len(set(sentences))"
      ],
      "execution_count": 14,
      "outputs": [
        {
          "output_type": "execute_result",
          "data": {
            "text/plain": [
              "14505"
            ]
          },
          "metadata": {},
          "execution_count": 14
        }
      ]
    },
    {
      "cell_type": "code",
      "metadata": {
        "id": "xqA3GFbBECOr"
      },
      "source": [
        "\n",
        "# remove duplicates and NaN\n",
        "sentences = [\n",
        "    sentence.replace('\\n', '') for sentence in list(set(sentences)) if type(sentence) is str\n",
        "    ]"
      ],
      "execution_count": 62,
      "outputs": []
    },
    {
      "cell_type": "code",
      "metadata": {
        "id": "IAoxAet8SJT5"
      },
      "source": [
        "import nltk"
      ],
      "execution_count": 58,
      "outputs": []
    },
    {
      "cell_type": "code",
      "metadata": {
        "id": "vm_Y-GjjSVHO"
      },
      "source": [
        "sentences = [sentence.lower() for sentence in  sentences]"
      ],
      "execution_count": 63,
      "outputs": []
    },
    {
      "cell_type": "code",
      "metadata": {
        "id": "x7zkIoQ1EIdj"
      },
      "source": [
        "with open('sentences.txt', 'w') as fp:\n",
        "    fp.write('\\n'.join(sentences))"
      ],
      "execution_count": 16,
      "outputs": []
    },
    {
      "cell_type": "code",
      "metadata": {
        "id": "ylNlMyqLQsct"
      },
      "source": [
        "sentences = ['i love cricket',\n",
        "             'i love cricket',\n",
        "             'i love cricket',\n",
        "             'i love cricket',\n",
        "             'i love cricket',\n",
        "             'i love cricket',\n",
        "             'I love cricket and F1',\n",
        "             'I love cricket and F1',\n",
        "             'I love cricket and football',\n",
        "             'I love cricket and Football',]"
      ],
      "execution_count": 61,
      "outputs": []
    },
    {
      "cell_type": "code",
      "metadata": {
        "colab": {
          "base_uri": "https://localhost:8080/"
        },
        "id": "5AQLd9HrRPfm",
        "outputId": "8ee1b386-45e3-4ae1-8a74-2dfa173a8f5a"
      },
      "source": [
        "sentences\n"
      ],
      "execution_count": 64,
      "outputs": [
        {
          "output_type": "execute_result",
          "data": {
            "text/plain": [
              "['i love cricket and football',\n",
              " 'i love cricket and football',\n",
              " 'i love cricket',\n",
              " 'i love cricket and f1']"
            ]
          },
          "metadata": {},
          "execution_count": 64
        }
      ]
    },
    {
      "cell_type": "code",
      "metadata": {
        "colab": {
          "base_uri": "https://localhost:8080/"
        },
        "id": "rv0NrQlIERZE",
        "outputId": "ca7b5116-e2ab-487a-981d-37a68c081c97"
      },
      "source": [
        "\n",
        "from sentence_transformers import SentenceTransformer\n",
        "\n",
        "model = SentenceTransformer('bert-base-nli-mean-tokens')\n",
        "\n",
        "sentence_embeddings = model.encode(sentences[:20])\n",
        "sentence_embeddings.shape"
      ],
      "execution_count": 65,
      "outputs": [
        {
          "output_type": "execute_result",
          "data": {
            "text/plain": [
              "(4, 768)"
            ]
          },
          "metadata": {},
          "execution_count": 65
        }
      ]
    },
    {
      "cell_type": "code",
      "metadata": {
        "id": "Nqc0YZ3JGera"
      },
      "source": [
        "with open(f'embeddings_X.npy', 'wb') as fp:\n",
        "    np.save(fp, sentence_embeddings)"
      ],
      "execution_count": 22,
      "outputs": []
    },
    {
      "cell_type": "code",
      "metadata": {
        "colab": {
          "base_uri": "https://localhost:8080/"
        },
        "id": "YieAJ8LUGniK",
        "outputId": "17b57411-ee9c-49f8-8b51-b08e70d8c8a9"
      },
      "source": [
        "# saving data\n",
        "split = 2\n",
        "file_count = 0\n",
        "for i in range(0, sentence_embeddings.shape[0], split):\n",
        "    end = i + split\n",
        "    if end > sentence_embeddings.shape[0] + 1:\n",
        "        end = sentence_embeddings.shape[0] + 1\n",
        "    file_count = '0' + str(file_count) if file_count < 0 else str(file_count)\n",
        "    with open(f'embeddings_{file_count}.npy', 'wb') as fp:\n",
        "        np.save(fp, sentence_embeddings[i:end, :])\n",
        "    print(f\"embeddings_{file_count}.npy | {i} -> {end}\")\n",
        "    file_count = int(file_count) + 1"
      ],
      "execution_count": 24,
      "outputs": [
        {
          "output_type": "stream",
          "name": "stdout",
          "text": [
            "embeddings_0.npy | 0 -> 2\n",
            "embeddings_1.npy | 2 -> 4\n",
            "embeddings_2.npy | 4 -> 6\n",
            "embeddings_3.npy | 6 -> 8\n",
            "embeddings_4.npy | 8 -> 10\n",
            "embeddings_5.npy | 10 -> 12\n",
            "embeddings_6.npy | 12 -> 14\n",
            "embeddings_7.npy | 14 -> 16\n",
            "embeddings_8.npy | 16 -> 18\n",
            "embeddings_9.npy | 18 -> 20\n"
          ]
        }
      ]
    },
    {
      "cell_type": "code",
      "metadata": {
        "colab": {
          "base_uri": "https://localhost:8080/"
        },
        "id": "s1U3NRw3HduQ",
        "outputId": "e334aee2-c1c5-48ba-cfe7-b637fe0bcdd6"
      },
      "source": [
        "d = sentence_embeddings.shape[1]\n",
        "d"
      ],
      "execution_count": 66,
      "outputs": [
        {
          "output_type": "execute_result",
          "data": {
            "text/plain": [
              "768"
            ]
          },
          "metadata": {},
          "execution_count": 66
        }
      ]
    },
    {
      "cell_type": "code",
      "metadata": {
        "id": "sINl--wWHhkG"
      },
      "source": [
        "index = faiss.IndexFlatL2(d)"
      ],
      "execution_count": 67,
      "outputs": []
    },
    {
      "cell_type": "code",
      "metadata": {
        "colab": {
          "base_uri": "https://localhost:8080/"
        },
        "id": "p2c3FBU1HmrJ",
        "outputId": "8a51cd47-e166-4815-c083-52a51412d888"
      },
      "source": [
        "index.is_trained"
      ],
      "execution_count": 51,
      "outputs": [
        {
          "output_type": "execute_result",
          "data": {
            "text/plain": [
              "True"
            ]
          },
          "metadata": {},
          "execution_count": 51
        }
      ]
    },
    {
      "cell_type": "code",
      "metadata": {
        "id": "I-_sEZB8HpJt"
      },
      "source": [
        "index.add(sentence_embeddings)"
      ],
      "execution_count": 68,
      "outputs": []
    },
    {
      "cell_type": "code",
      "metadata": {
        "colab": {
          "base_uri": "https://localhost:8080/"
        },
        "id": "V8op4hZRHrtN",
        "outputId": "20cd81f8-3263-4dde-c981-408fabc00736"
      },
      "source": [
        "index.ntotal"
      ],
      "execution_count": 53,
      "outputs": [
        {
          "output_type": "execute_result",
          "data": {
            "text/plain": [
              "4"
            ]
          },
          "metadata": {},
          "execution_count": 53
        }
      ]
    },
    {
      "cell_type": "code",
      "metadata": {
        "id": "QoqH-wttHvVI"
      },
      "source": [
        "k = 4\n",
        "xq = model.encode([\"i love cricket\"])"
      ],
      "execution_count": 69,
      "outputs": []
    },
    {
      "cell_type": "code",
      "metadata": {
        "colab": {
          "base_uri": "https://localhost:8080/"
        },
        "id": "UZl94xncHwoJ",
        "outputId": "0fb09657-673f-4e6e-fac6-635148e847f5"
      },
      "source": [
        "\n",
        "%%time\n",
        "D, I = index.search(xq, k)  # search\n",
        "print(I)  # k-nearest neigbors of the query vector | nprobe == 1: 6495 26392 61709 49932 | nprobe == 10: 36245  6495 57489  8705"
      ],
      "execution_count": 70,
      "outputs": [
        {
          "output_type": "stream",
          "name": "stdout",
          "text": [
            "[[2 3 1 0]]\n",
            "CPU times: user 1.83 ms, sys: 0 ns, total: 1.83 ms\n",
            "Wall time: 989 µs\n"
          ]
        }
      ]
    },
    {
      "cell_type": "code",
      "metadata": {
        "colab": {
          "base_uri": "https://localhost:8080/"
        },
        "id": "lMn1wWAxH9ls",
        "outputId": "c5fb107c-54da-4bd5-a20c-b53fc3934be5"
      },
      "source": [
        "[f'{i}: {sentences[i]}' for i in I[0]]"
      ],
      "execution_count": 71,
      "outputs": [
        {
          "output_type": "execute_result",
          "data": {
            "text/plain": [
              "['2: i love cricket',\n",
              " '3: i love cricket and f1',\n",
              " '1: i love cricket and football',\n",
              " '0: i love cricket and football']"
            ]
          },
          "metadata": {},
          "execution_count": 71
        }
      ]
    }
  ]
}